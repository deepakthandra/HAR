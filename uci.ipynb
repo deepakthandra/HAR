{
 "cells": [
  {
   "cell_type": "markdown",
   "metadata": {},
   "source": [
    "# IOT internship for HAR - Deepak Thandra"
   ]
  },
  {
   "cell_type": "code",
   "execution_count": 35,
   "metadata": {},
   "outputs": [],
   "source": [
    "import os\n",
    "import numpy as np\n",
    "import pandas as pd\n"
   ]
  },
  {
   "cell_type": "code",
   "execution_count": 36,
   "metadata": {},
   "outputs": [],
   "source": [
    "# Renaming file names to access in sequence\n",
    "\n",
    "import glob, os\n",
    "os.chdir(\"C://Users/babi/1Acode/parag/chest\")\n",
    "i=0\n",
    "for file in glob.glob(\"*.csv\"):\n",
    "    \n",
    "    pid=file[0:-4]\n",
    "    if len(pid)==1 :\n",
    "        os.rename(file,\"0\"+file)\n",
    " "
   ]
  },
  {
   "cell_type": "code",
   "execution_count": 37,
   "metadata": {},
   "outputs": [],
   "source": [
    "# Reading data from files and appending in a dataframe\n",
    "\n",
    "for file in glob.glob(\"*.csv\"):\n",
    "\n",
    "    pid=file[0:-4]\n",
    "    dft=pd.read_csv(file,header=None,names=[\"sid\",\"acc_x\",\"acc_y\",\"acc_z\",\"label\"])\n",
    "    dft[\"pid\"]=pid\n",
    "    dft.count()\n",
    "\n",
    "    if i==0 :\n",
    "        df=dft\n",
    "    else :\n",
    "        df=df.append(dft,ignore_index=True)\n",
    "    i=i+1\n",
    "    \n",
    "    del dft\n",
    "    \n",
    "df[\"sid\"]=df[\"sid\"].astype(int)\n",
    "df[\"pid\"]=df[\"pid\"].astype(int)"
   ]
  },
  {
   "cell_type": "code",
   "execution_count": 38,
   "metadata": {},
   "outputs": [
    {
     "data": {
      "text/plain": [
       "sid      1926896\n",
       "acc_x    1926896\n",
       "acc_y    1926896\n",
       "acc_z    1926896\n",
       "label    1926896\n",
       "pid      1926896\n",
       "dtype: int64"
      ]
     },
     "execution_count": 38,
     "metadata": {},
     "output_type": "execute_result"
    }
   ],
   "source": [
    "df.count()"
   ]
  },
  {
   "cell_type": "code",
   "execution_count": 39,
   "metadata": {},
   "outputs": [
    {
     "data": {
      "text/plain": [
       "sid      int32\n",
       "acc_x    int64\n",
       "acc_y    int64\n",
       "acc_z    int64\n",
       "label    int64\n",
       "pid      int32\n",
       "dtype: object"
      ]
     },
     "execution_count": 39,
     "metadata": {},
     "output_type": "execute_result"
    }
   ],
   "source": [
    "df.dtypes"
   ]
  },
  {
   "cell_type": "code",
   "execution_count": 40,
   "metadata": {},
   "outputs": [
    {
     "data": {
      "text/html": [
       "<div>\n",
       "<style scoped>\n",
       "    .dataframe tbody tr th:only-of-type {\n",
       "        vertical-align: middle;\n",
       "    }\n",
       "\n",
       "    .dataframe tbody tr th {\n",
       "        vertical-align: top;\n",
       "    }\n",
       "\n",
       "    .dataframe thead th {\n",
       "        text-align: right;\n",
       "    }\n",
       "</style>\n",
       "<table border=\"1\" class=\"dataframe\">\n",
       "  <thead>\n",
       "    <tr style=\"text-align: right;\">\n",
       "      <th></th>\n",
       "      <th>sid</th>\n",
       "      <th>acc_x</th>\n",
       "      <th>acc_y</th>\n",
       "      <th>acc_z</th>\n",
       "      <th>label</th>\n",
       "      <th>pid</th>\n",
       "    </tr>\n",
       "  </thead>\n",
       "  <tbody>\n",
       "    <tr>\n",
       "      <th>0</th>\n",
       "      <td>0</td>\n",
       "      <td>1502</td>\n",
       "      <td>2215</td>\n",
       "      <td>2153</td>\n",
       "      <td>1</td>\n",
       "      <td>1</td>\n",
       "    </tr>\n",
       "    <tr>\n",
       "      <th>1</th>\n",
       "      <td>1</td>\n",
       "      <td>1667</td>\n",
       "      <td>2072</td>\n",
       "      <td>2047</td>\n",
       "      <td>1</td>\n",
       "      <td>1</td>\n",
       "    </tr>\n",
       "    <tr>\n",
       "      <th>2</th>\n",
       "      <td>2</td>\n",
       "      <td>1611</td>\n",
       "      <td>1957</td>\n",
       "      <td>1906</td>\n",
       "      <td>1</td>\n",
       "      <td>1</td>\n",
       "    </tr>\n",
       "    <tr>\n",
       "      <th>3</th>\n",
       "      <td>3</td>\n",
       "      <td>1601</td>\n",
       "      <td>1939</td>\n",
       "      <td>1831</td>\n",
       "      <td>1</td>\n",
       "      <td>1</td>\n",
       "    </tr>\n",
       "    <tr>\n",
       "      <th>4</th>\n",
       "      <td>4</td>\n",
       "      <td>1643</td>\n",
       "      <td>1965</td>\n",
       "      <td>1879</td>\n",
       "      <td>1</td>\n",
       "      <td>1</td>\n",
       "    </tr>\n",
       "  </tbody>\n",
       "</table>\n",
       "</div>"
      ],
      "text/plain": [
       "   sid  acc_x  acc_y  acc_z  label  pid\n",
       "0    0   1502   2215   2153      1    1\n",
       "1    1   1667   2072   2047      1    1\n",
       "2    2   1611   1957   1906      1    1\n",
       "3    3   1601   1939   1831      1    1\n",
       "4    4   1643   1965   1879      1    1"
      ]
     },
     "execution_count": 40,
     "metadata": {},
     "output_type": "execute_result"
    }
   ],
   "source": [
    "df.head()"
   ]
  },
  {
   "cell_type": "code",
   "execution_count": 41,
   "metadata": {},
   "outputs": [
    {
     "data": {
      "text/html": [
       "<div>\n",
       "<style scoped>\n",
       "    .dataframe tbody tr th:only-of-type {\n",
       "        vertical-align: middle;\n",
       "    }\n",
       "\n",
       "    .dataframe tbody tr th {\n",
       "        vertical-align: top;\n",
       "    }\n",
       "\n",
       "    .dataframe thead th {\n",
       "        text-align: right;\n",
       "    }\n",
       "</style>\n",
       "<table border=\"1\" class=\"dataframe\">\n",
       "  <thead>\n",
       "    <tr style=\"text-align: right;\">\n",
       "      <th></th>\n",
       "      <th>sid</th>\n",
       "      <th>acc_x</th>\n",
       "      <th>acc_y</th>\n",
       "      <th>acc_z</th>\n",
       "      <th>label</th>\n",
       "      <th>pid</th>\n",
       "    </tr>\n",
       "  </thead>\n",
       "  <tbody>\n",
       "    <tr>\n",
       "      <th>1926891</th>\n",
       "      <td>103500</td>\n",
       "      <td>2043</td>\n",
       "      <td>2539</td>\n",
       "      <td>1990</td>\n",
       "      <td>7</td>\n",
       "      <td>15</td>\n",
       "    </tr>\n",
       "    <tr>\n",
       "      <th>1926892</th>\n",
       "      <td>103500</td>\n",
       "      <td>2036</td>\n",
       "      <td>2508</td>\n",
       "      <td>1976</td>\n",
       "      <td>7</td>\n",
       "      <td>15</td>\n",
       "    </tr>\n",
       "    <tr>\n",
       "      <th>1926893</th>\n",
       "      <td>103500</td>\n",
       "      <td>2025</td>\n",
       "      <td>2520</td>\n",
       "      <td>1991</td>\n",
       "      <td>7</td>\n",
       "      <td>15</td>\n",
       "    </tr>\n",
       "    <tr>\n",
       "      <th>1926894</th>\n",
       "      <td>103500</td>\n",
       "      <td>2009</td>\n",
       "      <td>2546</td>\n",
       "      <td>2007</td>\n",
       "      <td>7</td>\n",
       "      <td>15</td>\n",
       "    </tr>\n",
       "    <tr>\n",
       "      <th>1926895</th>\n",
       "      <td>103500</td>\n",
       "      <td>1999</td>\n",
       "      <td>2532</td>\n",
       "      <td>1996</td>\n",
       "      <td>0</td>\n",
       "      <td>15</td>\n",
       "    </tr>\n",
       "  </tbody>\n",
       "</table>\n",
       "</div>"
      ],
      "text/plain": [
       "            sid  acc_x  acc_y  acc_z  label  pid\n",
       "1926891  103500   2043   2539   1990      7   15\n",
       "1926892  103500   2036   2508   1976      7   15\n",
       "1926893  103500   2025   2520   1991      7   15\n",
       "1926894  103500   2009   2546   2007      7   15\n",
       "1926895  103500   1999   2532   1996      0   15"
      ]
     },
     "execution_count": 41,
     "metadata": {},
     "output_type": "execute_result"
    }
   ],
   "source": [
    "df.tail()"
   ]
  },
  {
   "cell_type": "code",
   "execution_count": 42,
   "metadata": {},
   "outputs": [
    {
     "data": {
      "text/plain": [
       "1    608667\n",
       "7    593563\n",
       "4    357064\n",
       "3    216737\n",
       "5     51498\n",
       "2     47878\n",
       "6     47770\n",
       "0      3719\n",
       "Name: label, dtype: int64"
      ]
     },
     "execution_count": 42,
     "metadata": {},
     "output_type": "execute_result"
    }
   ],
   "source": [
    "df.label.value_counts()"
   ]
  },
  {
   "cell_type": "code",
   "execution_count": 43,
   "metadata": {},
   "outputs": [
    {
     "data": {
      "text/plain": [
       "1926896"
      ]
     },
     "execution_count": 43,
     "metadata": {},
     "output_type": "execute_result"
    }
   ],
   "source": [
    "len(df)"
   ]
  },
  {
   "cell_type": "code",
   "execution_count": 44,
   "metadata": {},
   "outputs": [],
   "source": [
    "df=df[df.label!=0]\n",
    "\n"
   ]
  },
  {
   "cell_type": "code",
   "execution_count": 45,
   "metadata": {},
   "outputs": [
    {
     "data": {
      "text/plain": [
       "1923177"
      ]
     },
     "execution_count": 45,
     "metadata": {},
     "output_type": "execute_result"
    }
   ],
   "source": [
    "len(df)"
   ]
  },
  {
   "cell_type": "code",
   "execution_count": 46,
   "metadata": {},
   "outputs": [
    {
     "data": {
      "text/plain": [
       "Series([], Name: label, dtype: int64)"
      ]
     },
     "execution_count": 46,
     "metadata": {},
     "output_type": "execute_result"
    }
   ],
   "source": [
    "# We have label 0 for all the persons data as the last record \n",
    "# Forpersons 2, 6, 8,9 there are labels in the midde rows also \n",
    "# Thought these are for idle position  rows with label 0\n",
    "\n",
    "a=df.loc[df.label==0]\n",
    "a[[\"label\",\"pid\"]].groupby([\"pid\",'label'])['label'].count()\n",
    "\n"
   ]
  },
  {
   "cell_type": "code",
   "execution_count": 47,
   "metadata": {},
   "outputs": [
    {
     "data": {
      "image/png": "[encoded data removed]",
      "text/plain": [
       "<Figure size 432x288 with 1 Axes>"
      ]
     },
     "metadata": {
      "needs_background": "light"
     },
     "output_type": "display_data"
    },
    {
     "data": {
      "image/png": "[encoded data removed]",
      "text/plain": [
       "<Figure size 432x288 with 1 Axes>"
      ]
     },
     "metadata": {
      "needs_background": "light"
     },
     "output_type": "display_data"
    }
   ],
   "source": [
    "# Understanding distribution of data for various activities and persons\n",
    "# We see class imbalance for some activities\n",
    "\n",
    "from matplotlib import pyplot as plt\n",
    "%matplotlib inline\n",
    "\n",
    "\n",
    "df['label'].value_counts().plot(kind='bar',title='Training Examples by Activity Type')\n",
    "plt.show()\n",
    "df['pid'].value_counts().plot(kind='bar',title='Training Examples by User')\n",
    "plt.show()\n"
   ]
  },
  {
   "cell_type": "code",
   "execution_count": 48,
   "metadata": {},
   "outputs": [],
   "source": [
    "from sklearn.preprocessing import StandardScaler\n",
    "\n",
    "std_scale=StandardScaler().fit(df.iloc[: ,1:4])\n",
    "df.iloc[: ,1:4]=std_scale.transform(df.iloc[:,1:4])\n"
   ]
  },
  {
   "cell_type": "code",
   "execution_count": 49,
   "metadata": {},
   "outputs": [
    {
     "data": {
      "text/html": [
       "<div>\n",
       "<style scoped>\n",
       "    .dataframe tbody tr th:only-of-type {\n",
       "        vertical-align: middle;\n",
       "    }\n",
       "\n",
       "    .dataframe tbody tr th {\n",
       "        vertical-align: top;\n",
       "    }\n",
       "\n",
       "    .dataframe thead th {\n",
       "        text-align: right;\n",
       "    }\n",
       "</style>\n",
       "<table border=\"1\" class=\"dataframe\">\n",
       "  <thead>\n",
       "    <tr style=\"text-align: right;\">\n",
       "      <th></th>\n",
       "      <th>acc_x</th>\n",
       "      <th>acc_y</th>\n",
       "      <th>acc_z</th>\n",
       "    </tr>\n",
       "  </thead>\n",
       "  <tbody>\n",
       "    <tr>\n",
       "      <th>1</th>\n",
       "      <td>-2.878360</td>\n",
       "      <td>-3.096472</td>\n",
       "      <td>0.809722</td>\n",
       "    </tr>\n",
       "    <tr>\n",
       "      <th>2</th>\n",
       "      <td>-3.381321</td>\n",
       "      <td>-4.244054</td>\n",
       "      <td>-0.682480</td>\n",
       "    </tr>\n",
       "    <tr>\n",
       "      <th>3</th>\n",
       "      <td>-3.471135</td>\n",
       "      <td>-4.423675</td>\n",
       "      <td>-1.476205</td>\n",
       "    </tr>\n",
       "  </tbody>\n",
       "</table>\n",
       "</div>"
      ],
      "text/plain": [
       "      acc_x     acc_y     acc_z\n",
       "1 -2.878360 -3.096472  0.809722\n",
       "2 -3.381321 -4.244054 -0.682480\n",
       "3 -3.471135 -4.423675 -1.476205"
      ]
     },
     "execution_count": 49,
     "metadata": {},
     "output_type": "execute_result"
    }
   ],
   "source": [
    "df.iloc[1:4 ,1:4].head()"
   ]
  },
  {
   "cell_type": "code",
   "execution_count": 50,
   "metadata": {},
   "outputs": [
    {
     "data": {
      "text/html": [
       "<div>\n",
       "<style scoped>\n",
       "    .dataframe tbody tr th:only-of-type {\n",
       "        vertical-align: middle;\n",
       "    }\n",
       "\n",
       "    .dataframe tbody tr th {\n",
       "        vertical-align: top;\n",
       "    }\n",
       "\n",
       "    .dataframe thead th {\n",
       "        text-align: right;\n",
       "    }\n",
       "</style>\n",
       "<table border=\"1\" class=\"dataframe\">\n",
       "  <thead>\n",
       "    <tr style=\"text-align: right;\">\n",
       "      <th></th>\n",
       "      <th>sid</th>\n",
       "      <th>acc_x</th>\n",
       "      <th>acc_y</th>\n",
       "      <th>acc_z</th>\n",
       "      <th>label</th>\n",
       "      <th>pid</th>\n",
       "    </tr>\n",
       "  </thead>\n",
       "  <tbody>\n",
       "    <tr>\n",
       "      <th>0</th>\n",
       "      <td>0</td>\n",
       "      <td>-4.360297</td>\n",
       "      <td>-1.669479</td>\n",
       "      <td>1.931520</td>\n",
       "      <td>1</td>\n",
       "      <td>1</td>\n",
       "    </tr>\n",
       "    <tr>\n",
       "      <th>1</th>\n",
       "      <td>1</td>\n",
       "      <td>-2.878360</td>\n",
       "      <td>-3.096472</td>\n",
       "      <td>0.809722</td>\n",
       "      <td>1</td>\n",
       "      <td>1</td>\n",
       "    </tr>\n",
       "    <tr>\n",
       "      <th>2</th>\n",
       "      <td>2</td>\n",
       "      <td>-3.381321</td>\n",
       "      <td>-4.244054</td>\n",
       "      <td>-0.682480</td>\n",
       "      <td>1</td>\n",
       "      <td>1</td>\n",
       "    </tr>\n",
       "    <tr>\n",
       "      <th>3</th>\n",
       "      <td>3</td>\n",
       "      <td>-3.471135</td>\n",
       "      <td>-4.423675</td>\n",
       "      <td>-1.476205</td>\n",
       "      <td>1</td>\n",
       "      <td>1</td>\n",
       "    </tr>\n",
       "    <tr>\n",
       "      <th>4</th>\n",
       "      <td>4</td>\n",
       "      <td>-3.093915</td>\n",
       "      <td>-4.164222</td>\n",
       "      <td>-0.968221</td>\n",
       "      <td>1</td>\n",
       "      <td>1</td>\n",
       "    </tr>\n",
       "  </tbody>\n",
       "</table>\n",
       "</div>"
      ],
      "text/plain": [
       "   sid     acc_x     acc_y     acc_z  label  pid\n",
       "0    0 -4.360297 -1.669479  1.931520      1    1\n",
       "1    1 -2.878360 -3.096472  0.809722      1    1\n",
       "2    2 -3.381321 -4.244054 -0.682480      1    1\n",
       "3    3 -3.471135 -4.423675 -1.476205      1    1\n",
       "4    4 -3.093915 -4.164222 -0.968221      1    1"
      ]
     },
     "execution_count": 50,
     "metadata": {},
     "output_type": "execute_result"
    }
   ],
   "source": [
    "df.head()"
   ]
  },
  {
   "cell_type": "markdown",
   "metadata": {},
   "source": [
    "# Sliding Window Approach"
   ]
  },
  {
   "cell_type": "code",
   "execution_count": 13,
   "metadata": {},
   "outputs": [
    {
     "data": {
      "text/plain": [
       "'\\nfor i in range(0,len(X_train)-128,128) :\\n    \\n    if(i==0):\\n        trainx=X_train[i:i+128]\\n    else :\\n        trainx=np.append(trainx,X_train[i:i+128],axis=0)\\n        \\n'"
      ]
     },
     "execution_count": 13,
     "metadata": {},
     "output_type": "execute_result"
    }
   ],
   "source": [
    "# Data windows are created with timesteps of 128\n",
    "# Overlapping is not considered because it may lead to overfitting .\n",
    "\n",
    "'''\n",
    "for i in range(0,len(X_train)-128,128) :\n",
    "    \n",
    "    if(i==0):\n",
    "        trainx=X_train[i:i+128]\n",
    "    else :\n",
    "        trainx=np.append(trainx,X_train[i:i+128],axis=0)\n",
    "        \n",
    "'''    \n",
    "    "
   ]
  },
  {
   "cell_type": "code",
   "execution_count": 51,
   "metadata": {},
   "outputs": [],
   "source": [
    "from statistics import mode\n",
    "\n",
    "N_TIME_STEPS = 127\n",
    "N_FEATURES = 3\n",
    "step = 52\n",
    "segments = []\n",
    "labels = []\n",
    "for i in range(0, len(df) - N_TIME_STEPS, step):\n",
    "    xs = df['acc_x'].values[i: i + N_TIME_STEPS]\n",
    "    ys = df['acc_y'].values[i: i + N_TIME_STEPS]\n",
    "    zs = df['acc_z'].values[i: i + N_TIME_STEPS]\n",
    "    label = mode(df['label'][i: i + N_TIME_STEPS])\n",
    "    segments.append([xs, ys, zs])\n",
    "    labels.append(label)\n"
   ]
  },
  {
   "cell_type": "code",
   "execution_count": 52,
   "metadata": {},
   "outputs": [
    {
     "data": {
      "text/plain": [
       "array([1, 2, 3, 4, 5, 6, 7])"
      ]
     },
     "execution_count": 52,
     "metadata": {},
     "output_type": "execute_result"
    }
   ],
   "source": [
    "np.unique(np.array(labels))"
   ]
  },
  {
   "cell_type": "code",
   "execution_count": 53,
   "metadata": {},
   "outputs": [
    {
     "data": {
      "text/plain": [
       "(36982, 3, 127)"
      ]
     },
     "execution_count": 53,
     "metadata": {},
     "output_type": "execute_result"
    }
   ],
   "source": [
    "np.array(segments).shape\n"
   ]
  },
  {
   "cell_type": "code",
   "execution_count": 54,
   "metadata": {},
   "outputs": [],
   "source": [
    "reshaped_segments = np.asarray(segments, dtype= np.float32).reshape(-1, N_TIME_STEPS, N_FEATURES)\n",
    "labels = np.asarray(pd.get_dummies(labels), dtype = np.float32)\n"
   ]
  },
  {
   "cell_type": "code",
   "execution_count": 55,
   "metadata": {},
   "outputs": [
    {
     "data": {
      "text/plain": [
       "(36982, 127, 3)"
      ]
     },
     "execution_count": 55,
     "metadata": {},
     "output_type": "execute_result"
    }
   ],
   "source": [
    "reshaped_segments.shape\n"
   ]
  },
  {
   "cell_type": "code",
   "execution_count": 56,
   "metadata": {},
   "outputs": [
    {
     "data": {
      "text/plain": [
       "array([[1., 0., 0., 0., 0., 0., 0.],\n",
       "       [1., 0., 0., 0., 0., 0., 0.],\n",
       "       [1., 0., 0., 0., 0., 0., 0.],\n",
       "       [1., 0., 0., 0., 0., 0., 0.],\n",
       "       [1., 0., 0., 0., 0., 0., 0.]], dtype=float32)"
      ]
     },
     "execution_count": 56,
     "metadata": {},
     "output_type": "execute_result"
    }
   ],
   "source": [
    "labels[0:5]\n"
   ]
  },
  {
   "cell_type": "code",
   "execution_count": 57,
   "metadata": {},
   "outputs": [
    {
     "data": {
      "text/plain": [
       "(36982, 7)"
      ]
     },
     "execution_count": 57,
     "metadata": {},
     "output_type": "execute_result"
    }
   ],
   "source": [
    "labels.shape"
   ]
  },
  {
   "cell_type": "code",
   "execution_count": 58,
   "metadata": {},
   "outputs": [],
   "source": [
    "from sklearn.model_selection import train_test_split\n",
    "\n",
    "RANDOM_SEED=42\n",
    "\n",
    "X_train, X_test, y_train, y_test = train_test_split(\n",
    "        reshaped_segments, labels, test_size=0.2, random_state=RANDOM_SEED)\n"
   ]
  },
  {
   "cell_type": "code",
   "execution_count": 59,
   "metadata": {},
   "outputs": [
    {
     "name": "stderr",
     "output_type": "stream",
     "text": [
      "C:\\Users\\babi\\Anaconda3\\lib\\site-packages\\h5py\\__init__.py:36: FutureWarning: Conversion of the second argument of issubdtype from `float` to `np.floating` is deprecated. In future, it will be treated as `np.float64 == np.dtype(float).type`.\n",
      "  from ._conv import register_converters as _register_converters\n",
      "Using TensorFlow backend.\n"
     ]
    }
   ],
   "source": [
    "import keras\n",
    "from keras.models import Sequential\n",
    "from keras.layers import Dense, Dropout, Flatten, Reshape\n",
    "from keras.layers import Conv2D, MaxPooling2D,LSTM\n",
    "from keras.utils import np_utils\n",
    "from keras.optimizers import Adam\n",
    "from keras.regularizers import l2\n"
   ]
  },
  {
   "cell_type": "code",
   "execution_count": 61,
   "metadata": {},
   "outputs": [
    {
     "name": "stdout",
     "output_type": "stream",
     "text": [
      "Train on 23668 samples, validate on 5917 samples\n",
      "Epoch 1/10\n",
      "23668/23668 [==============================] - 203s 9ms/step - loss: 1.4190 - acc: 0.4485 - val_loss: 1.1862 - val_acc: 0.5673\n",
      "Epoch 2/10\n",
      "23668/23668 [==============================] - 197s 8ms/step - loss: 1.1395 - acc: 0.6089 - val_loss: 0.9669 - val_acc: 0.6868\n",
      "Epoch 3/10\n",
      "23668/23668 [==============================] - 194s 8ms/step - loss: 0.9107 - acc: 0.7056 - val_loss: 0.8598 - val_acc: 0.7235\n",
      "Epoch 4/10\n",
      "23668/23668 [==============================] - 193s 8ms/step - loss: 0.8544 - acc: 0.7206 - val_loss: 0.8244 - val_acc: 0.7313\n",
      "Epoch 5/10\n",
      "23668/23668 [==============================] - 191s 8ms/step - loss: 0.7710 - acc: 0.7456 - val_loss: 0.7552 - val_acc: 0.7455\n",
      "Epoch 6/10\n",
      "23668/23668 [==============================] - 192s 8ms/step - loss: 0.7457 - acc: 0.7502 - val_loss: 0.7795 - val_acc: 0.7399\n",
      "Epoch 7/10\n",
      "23668/23668 [==============================] - 193s 8ms/step - loss: 0.7040 - acc: 0.7650 - val_loss: 0.7219 - val_acc: 0.7627\n",
      "Epoch 8/10\n",
      "23668/23668 [==============================] - 189s 8ms/step - loss: 0.6717 - acc: 0.7696 - val_loss: 0.7294 - val_acc: 0.7576\n",
      "Epoch 9/10\n",
      "23668/23668 [==============================] - 190s 8ms/step - loss: 0.6448 - acc: 0.7803 - val_loss: 0.6753 - val_acc: 0.7718\n",
      "Epoch 10/10\n",
      "23668/23668 [==============================] - 191s 8ms/step - loss: 0.6367 - acc: 0.7805 - val_loss: 0.6794 - val_acc: 0.7688\n",
      "7397/7397 [==============================] - 18s 2ms/step\n"
     ]
    }
   ],
   "source": [
    "n_timesteps,n_features=127,3\n",
    "epochs,batch_size=10,64\n",
    "n_outputs=7\n",
    "\n",
    "model = Sequential()\n",
    "model.add(LSTM(100, return_sequences=True,input_shape=(n_timesteps,n_features)))\n",
    "#model.add(LSTM(100, return_sequences=True))\n",
    "model.add(LSTM(100))\n",
    "#model.add(Dropout(0.25))\n",
    "model.add(Dense(100, activation='relu'))\n",
    "model.add(Dense(n_outputs, activation='softmax'))\n",
    "\n",
    "model.compile(loss='categorical_crossentropy', optimizer='adam', metrics=['accuracy'] )\n",
    "# fit network\n",
    "model.fit(X_train, y_train, epochs=epochs, batch_size=batch_size ,validation_split=0.2)\n",
    "# evaluate model\n",
    "_, accuracy = model.evaluate(X_test, y_test, batch_size=batch_size)\n"
   ]
  },
  {
   "cell_type": "code",
   "execution_count": 62,
   "metadata": {},
   "outputs": [
    {
     "data": {
      "text/plain": [
       "0.7677436799991448"
      ]
     },
     "execution_count": 62,
     "metadata": {},
     "output_type": "execute_result"
    }
   ],
   "source": [
    "accuracy"
   ]
  },
  {
   "cell_type": "code",
   "execution_count": null,
   "metadata": {},
   "outputs": [],
   "source": []
  },
  {
   "cell_type": "code",
   "execution_count": null,
   "metadata": {},
   "outputs": [],
   "source": []
  },
  {
   "cell_type": "code",
   "execution_count": 57,
   "metadata": {},
   "outputs": [
    {
     "name": "stdout",
     "output_type": "stream",
     "text": [
      "Train on 61654 samples, validate on 15414 samples\n",
      "Epoch 1/10\n",
      "61654/61654 [==============================] - 888s 14ms/step - loss: 1.3253 - acc: 0.5007 - val_loss: 1.0762 - val_acc: 0.6238\n",
      "Epoch 2/10\n",
      "61654/61654 [==============================] - 912s 15ms/step - loss: 1.0649 - acc: 0.6379 - val_loss: 0.9739 - val_acc: 0.6752\n",
      "Epoch 3/10\n",
      "61654/61654 [==============================] - 910s 15ms/step - loss: 0.9812 - acc: 0.6732 - val_loss: 0.9664 - val_acc: 0.6787\n",
      "Epoch 4/10\n",
      "61654/61654 [==============================] - 884s 14ms/step - loss: 0.8831 - acc: 0.7097 - val_loss: 0.7837 - val_acc: 0.7404\n",
      "Epoch 5/10\n",
      "61654/61654 [==============================] - 882s 14ms/step - loss: 0.7545 - acc: 0.7459 - val_loss: 0.7362 - val_acc: 0.7474\n",
      "Epoch 6/10\n",
      "61654/61654 [==============================] - 885s 14ms/step - loss: 0.7585 - acc: 0.7443 - val_loss: 0.7376 - val_acc: 0.7471\n",
      "Epoch 7/10\n",
      "61654/61654 [==============================] - 886s 14ms/step - loss: 0.6751 - acc: 0.7731 - val_loss: 0.6358 - val_acc: 0.7887\n",
      "Epoch 8/10\n",
      "61654/61654 [==============================] - 884s 14ms/step - loss: 0.6313 - acc: 0.7856 - val_loss: 0.5946 - val_acc: 0.7983\n",
      "Epoch 9/10\n",
      "61654/61654 [==============================] - 886s 14ms/step - loss: 0.5939 - acc: 0.7988 - val_loss: 0.5737 - val_acc: 0.8043\n",
      "Epoch 10/10\n",
      "61654/61654 [==============================] - 889s 14ms/step - loss: 0.5539 - acc: 0.8107 - val_loss: 0.5382 - val_acc: 0.8152\n",
      "19267/19267 [==============================] - 66s 3ms/step\n"
     ]
    }
   ],
   "source": [
    "n_timesteps,n_features=199,3\n",
    "epochs,batch_size=10,64\n",
    "n_outputs=8\n",
    "\n",
    "model = Sequential()\n",
    "model.add(LSTM(100, return_sequences=True,input_shape=(n_timesteps,n_features)))\n",
    "#model.add(LSTM(100, return_sequences=True))\n",
    "model.add(LSTM(100))\n",
    "#model.add(Dropout(0.25))\n",
    "model.add(Dense(100, activation='relu'))\n",
    "model.add(Dense(n_outputs, activation='softmax'))\n",
    "\n",
    "model.compile(loss='categorical_crossentropy', optimizer='adam', metrics=['accuracy'] )\n",
    "# fit network\n",
    "model.fit(X_train, y_train, epochs=epochs, batch_size=batch_size ,validation_split=0.2)\n",
    "# evaluate model\n",
    "_, accuracy = model.evaluate(X_test, y_test, batch_size=batch_size)\n"
   ]
  },
  {
   "cell_type": "code",
   "execution_count": 58,
   "metadata": {},
   "outputs": [
    {
     "data": {
      "text/plain": [
       "0.8113354440265534"
      ]
     },
     "execution_count": 58,
     "metadata": {},
     "output_type": "execute_result"
    }
   ],
   "source": [
    "accuracy"
   ]
  },
  {
   "cell_type": "code",
   "execution_count": null,
   "metadata": {},
   "outputs": [],
   "source": []
  },
  {
   "cell_type": "code",
   "execution_count": 27,
   "metadata": {},
   "outputs": [],
   "source": [
    "# Building the model using LSTM\n",
    "\n",
    "n_timesteps,n_features=125,3\n",
    "epochs,batch_size=10,64\n",
    "n_outputs=8\n",
    "\n",
    "model = Sequential()\n",
    "model.add(LSTM(256, input_shape=(n_timesteps,n_features)))\n",
    "#model.add(Dropout(0.5))\n",
    "model.add(Dense(512, activation='relu'))\n",
    "model.add(Dropout(0.5))\n",
    "model.add(Dense(512, activation='relu'))\n",
    "model.add(Dense(n_outputs, activation='softmax'))\n",
    "\n"
   ]
  },
  {
   "cell_type": "code",
   "execution_count": 28,
   "metadata": {},
   "outputs": [
    {
     "name": "stdout",
     "output_type": "stream",
     "text": [
      "Train on 9865 samples, validate on 2467 samples\n",
      "Epoch 1/10\n",
      "9865/9865 [==============================] - 130s 13ms/step - loss: 1.5010 - acc: 0.4229 - val_loss: 1.4387 - val_acc: 0.4248\n",
      "Epoch 2/10\n",
      "9865/9865 [==============================] - 131s 13ms/step - loss: 1.3743 - acc: 0.4953 - val_loss: 1.2532 - val_acc: 0.5565\n",
      "Epoch 3/10\n",
      "9865/9865 [==============================] - 125s 13ms/step - loss: 1.1484 - acc: 0.6121 - val_loss: 1.0729 - val_acc: 0.6267\n",
      "Epoch 4/10\n",
      "9865/9865 [==============================] - 123s 12ms/step - loss: 1.1196 - acc: 0.6303 - val_loss: 1.0696 - val_acc: 0.6267\n",
      "Epoch 5/10\n",
      "9865/9865 [==============================] - 123s 12ms/step - loss: 1.0794 - acc: 0.6417 - val_loss: 1.0700 - val_acc: 0.6246\n",
      "Epoch 6/10\n",
      "9865/9865 [==============================] - 122s 12ms/step - loss: 1.0594 - acc: 0.6447 - val_loss: 1.0447 - val_acc: 0.6405\n",
      "Epoch 7/10\n",
      "9865/9865 [==============================] - 122s 12ms/step - loss: 1.0543 - acc: 0.6570 - val_loss: 1.0155 - val_acc: 0.6542\n",
      "Epoch 8/10\n",
      "9865/9865 [==============================] - 123s 12ms/step - loss: 1.0307 - acc: 0.6670 - val_loss: 0.9893 - val_acc: 0.6802\n",
      "Epoch 9/10\n",
      "9865/9865 [==============================] - 122s 12ms/step - loss: 0.9871 - acc: 0.6879 - val_loss: 0.9693 - val_acc: 0.6826\n",
      "Epoch 10/10\n",
      "9865/9865 [==============================] - 127s 13ms/step - loss: 0.9803 - acc: 0.6833 - val_loss: 0.9815 - val_acc: 0.6717\n",
      "3083/3083 [==============================] - 10s 3ms/step\n"
     ]
    }
   ],
   "source": [
    "model.compile(loss='categorical_crossentropy', optimizer='adam', metrics=['accuracy'])\n",
    "# fit network\n",
    "model.fit(X_train, y_train, epochs=epochs, batch_size=batch_size ,validation_split=0.2)\n",
    "# evaluate model\n",
    "_, accuracy = model.evaluate(X_test, y_test, batch_size=batch_size)\n"
   ]
  },
  {
   "cell_type": "code",
   "execution_count": 29,
   "metadata": {},
   "outputs": [
    {
     "name": "stdout",
     "output_type": "stream",
     "text": [
      "0.6772624068046753\n"
     ]
    }
   ],
   "source": [
    "print(accuracy)"
   ]
  },
  {
   "cell_type": "code",
   "execution_count": 32,
   "metadata": {},
   "outputs": [
    {
     "data": {
      "text/plain": [
       "(2244,)"
      ]
     },
     "execution_count": 32,
     "metadata": {},
     "output_type": "execute_result"
    }
   ],
   "source": [
    "test_classes_lstm = model.predict_classes(testx)\n",
    "test_classes_lstm.shape"
   ]
  },
  {
   "cell_type": "markdown",
   "metadata": {},
   "source": [
    "Have implemented sliding window with LSTM architecture.\n",
    "Other alterative approches are :\n",
    "\n",
    "1. Hand crafting features and applying models. Deep learning models perform better than this.\n",
    "2. CNN \n",
    "3. Combination of CNN- LSTM\n",
    "4. ConvLSTM\n"
   ]
  },
  {
   "cell_type": "code",
   "execution_count": null,
   "metadata": {},
   "outputs": [],
   "source": []
  },
  {
   "cell_type": "code",
   "execution_count": null,
   "metadata": {},
   "outputs": [],
   "source": []
  },
  {
   "cell_type": "code",
   "execution_count": null,
   "metadata": {},
   "outputs": [],
   "source": []
  },
  {
   "cell_type": "code",
   "execution_count": null,
   "metadata": {},
   "outputs": [],
   "source": []
  }
 ],
 "metadata": {
  "kernelspec": {
   "display_name": "Python 3",
   "language": "python",
   "name": "python3"
  },
  "language_info": {
   "codemirror_mode": {
    "name": "ipython",
    "version": 3
   },
   "file_extension": ".py",
   "mimetype": "text/x-python",
   "name": "python",
   "nbconvert_exporter": "python",
   "pygments_lexer": "ipython3",
   "version": "3.6.5"
  }
 },
 "nbformat": 4,
 "nbformat_minor": 2
}

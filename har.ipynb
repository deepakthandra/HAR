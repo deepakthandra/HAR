{
 "cells": [
  {
   "cell_type": "code",
   "execution_count": 1,
   "metadata": {},
   "outputs": [],
   "source": [
    "import os\n",
    "import numpy as np\n",
    "import pandas as pd\n"
   ]
  },
  {
   "cell_type": "code",
   "execution_count": 2,
   "metadata": {},
   "outputs": [],
   "source": [
    "columns = ['user','activity','timestamp', 'x-axis', 'y-axis', 'z-axis']\n",
    "\n",
    "wisdm=pd.read_csv(\"WISDM.txt\",header=None,names=columns)"
   ]
  },
  {
   "cell_type": "code",
   "execution_count": 3,
   "metadata": {},
   "outputs": [
    {
     "data": {
      "text/plain": [
       "user         1098204\n",
       "activity     1098204\n",
       "timestamp    1098204\n",
       "x-axis       1098204\n",
       "y-axis       1098204\n",
       "z-axis       1098203\n",
       "dtype: int64"
      ]
     },
     "execution_count": 3,
     "metadata": {},
     "output_type": "execute_result"
    }
   ],
   "source": [
    "wisdm.count()"
   ]
  },
  {
   "cell_type": "code",
   "execution_count": 4,
   "metadata": {},
   "outputs": [],
   "source": [
    "wisdm=wisdm.dropna()"
   ]
  },
  {
   "cell_type": "code",
   "execution_count": 5,
   "metadata": {},
   "outputs": [
    {
     "data": {
      "text/plain": [
       "user           int64\n",
       "activity      object\n",
       "timestamp      int64\n",
       "x-axis       float64\n",
       "y-axis       float64\n",
       "z-axis        object\n",
       "dtype: object"
      ]
     },
     "execution_count": 5,
     "metadata": {},
     "output_type": "execute_result"
    }
   ],
   "source": [
    "wisdm.dtypes"
   ]
  },
  {
   "cell_type": "code",
   "execution_count": 6,
   "metadata": {},
   "outputs": [],
   "source": [
    "wisdm.user=wisdm.user.astype(int)"
   ]
  },
  {
   "cell_type": "code",
   "execution_count": 7,
   "metadata": {},
   "outputs": [],
   "source": [
    "wisdm.activity=wisdm.activity.astype(str)"
   ]
  },
  {
   "cell_type": "code",
   "execution_count": 8,
   "metadata": {},
   "outputs": [],
   "source": [
    "wisdm[\"z-axis\"]=wisdm[\"z-axis\"].astype(str)"
   ]
  },
  {
   "cell_type": "code",
   "execution_count": 9,
   "metadata": {},
   "outputs": [],
   "source": [
    "wisdm[\"z-axis\"]=wisdm[\"z-axis\"].str.replace(\";\",'')"
   ]
  },
  {
   "cell_type": "code",
   "execution_count": 10,
   "metadata": {},
   "outputs": [],
   "source": [
    "wisdm[\"z-axis\"]=wisdm[\"z-axis\"].astype(float)"
   ]
  },
  {
   "cell_type": "code",
   "execution_count": 11,
   "metadata": {},
   "outputs": [
    {
     "data": {
      "text/plain": [
       "user           int64\n",
       "activity      object\n",
       "timestamp      int64\n",
       "x-axis       float64\n",
       "y-axis       float64\n",
       "z-axis       float64\n",
       "dtype: object"
      ]
     },
     "execution_count": 11,
     "metadata": {},
     "output_type": "execute_result"
    }
   ],
   "source": [
    "wisdm.dtypes"
   ]
  },
  {
   "cell_type": "code",
   "execution_count": 12,
   "metadata": {},
   "outputs": [
    {
     "data": {
      "text/html": [
       "<div>\n",
       "<style scoped>\n",
       "    .dataframe tbody tr th:only-of-type {\n",
       "        vertical-align: middle;\n",
       "    }\n",
       "\n",
       "    .dataframe tbody tr th {\n",
       "        vertical-align: top;\n",
       "    }\n",
       "\n",
       "    .dataframe thead th {\n",
       "        text-align: right;\n",
       "    }\n",
       "</style>\n",
       "<table border=\"1\" class=\"dataframe\">\n",
       "  <thead>\n",
       "    <tr style=\"text-align: right;\">\n",
       "      <th></th>\n",
       "      <th>user</th>\n",
       "      <th>activity</th>\n",
       "      <th>timestamp</th>\n",
       "      <th>x-axis</th>\n",
       "      <th>y-axis</th>\n",
       "      <th>z-axis</th>\n",
       "    </tr>\n",
       "  </thead>\n",
       "  <tbody>\n",
       "    <tr>\n",
       "      <th>0</th>\n",
       "      <td>33</td>\n",
       "      <td>Jogging</td>\n",
       "      <td>49105962326000</td>\n",
       "      <td>-0.694638</td>\n",
       "      <td>12.680544</td>\n",
       "      <td>0.503953</td>\n",
       "    </tr>\n",
       "    <tr>\n",
       "      <th>1</th>\n",
       "      <td>33</td>\n",
       "      <td>Jogging</td>\n",
       "      <td>49106062271000</td>\n",
       "      <td>5.012288</td>\n",
       "      <td>11.264028</td>\n",
       "      <td>0.953424</td>\n",
       "    </tr>\n",
       "    <tr>\n",
       "      <th>2</th>\n",
       "      <td>33</td>\n",
       "      <td>Jogging</td>\n",
       "      <td>49106112167000</td>\n",
       "      <td>4.903325</td>\n",
       "      <td>10.882658</td>\n",
       "      <td>-0.081722</td>\n",
       "    </tr>\n",
       "    <tr>\n",
       "      <th>3</th>\n",
       "      <td>33</td>\n",
       "      <td>Jogging</td>\n",
       "      <td>49106222305000</td>\n",
       "      <td>-0.612916</td>\n",
       "      <td>18.496431</td>\n",
       "      <td>3.023717</td>\n",
       "    </tr>\n",
       "    <tr>\n",
       "      <th>4</th>\n",
       "      <td>33</td>\n",
       "      <td>Jogging</td>\n",
       "      <td>49106332290000</td>\n",
       "      <td>-1.184970</td>\n",
       "      <td>12.108489</td>\n",
       "      <td>7.205164</td>\n",
       "    </tr>\n",
       "  </tbody>\n",
       "</table>\n",
       "</div>"
      ],
      "text/plain": [
       "   user activity       timestamp    x-axis     y-axis    z-axis\n",
       "0    33  Jogging  49105962326000 -0.694638  12.680544  0.503953\n",
       "1    33  Jogging  49106062271000  5.012288  11.264028  0.953424\n",
       "2    33  Jogging  49106112167000  4.903325  10.882658 -0.081722\n",
       "3    33  Jogging  49106222305000 -0.612916  18.496431  3.023717\n",
       "4    33  Jogging  49106332290000 -1.184970  12.108489  7.205164"
      ]
     },
     "execution_count": 12,
     "metadata": {},
     "output_type": "execute_result"
    }
   ],
   "source": [
    "wisdm.head()"
   ]
  },
  {
   "cell_type": "code",
   "execution_count": 13,
   "metadata": {},
   "outputs": [
    {
     "name": "stdout",
     "output_type": "stream",
     "text": [
      "<class 'pandas.core.frame.DataFrame'>\n",
      "Int64Index: 1098203 entries, 0 to 1098203\n",
      "Data columns (total 6 columns):\n",
      "user         1098203 non-null int64\n",
      "activity     1098203 non-null object\n",
      "timestamp    1098203 non-null int64\n",
      "x-axis       1098203 non-null float64\n",
      "y-axis       1098203 non-null float64\n",
      "z-axis       1098203 non-null float64\n",
      "dtypes: float64(3), int64(2), object(1)\n",
      "memory usage: 58.7+ MB\n"
     ]
    }
   ],
   "source": [
    "wisdm.info()"
   ]
  },
  {
   "cell_type": "code",
   "execution_count": 14,
   "metadata": {},
   "outputs": [
    {
     "data": {
      "text/html": [
       "<div>\n",
       "<style scoped>\n",
       "    .dataframe tbody tr th:only-of-type {\n",
       "        vertical-align: middle;\n",
       "    }\n",
       "\n",
       "    .dataframe tbody tr th {\n",
       "        vertical-align: top;\n",
       "    }\n",
       "\n",
       "    .dataframe thead th {\n",
       "        text-align: right;\n",
       "    }\n",
       "</style>\n",
       "<table border=\"1\" class=\"dataframe\">\n",
       "  <thead>\n",
       "    <tr style=\"text-align: right;\">\n",
       "      <th></th>\n",
       "      <th>user</th>\n",
       "      <th>timestamp</th>\n",
       "      <th>x-axis</th>\n",
       "      <th>y-axis</th>\n",
       "      <th>z-axis</th>\n",
       "    </tr>\n",
       "  </thead>\n",
       "  <tbody>\n",
       "    <tr>\n",
       "      <th>count</th>\n",
       "      <td>1.098203e+06</td>\n",
       "      <td>1.098203e+06</td>\n",
       "      <td>1.098203e+06</td>\n",
       "      <td>1.098203e+06</td>\n",
       "      <td>1.098203e+06</td>\n",
       "    </tr>\n",
       "    <tr>\n",
       "      <th>mean</th>\n",
       "      <td>1.886067e+01</td>\n",
       "      <td>3.340910e+13</td>\n",
       "      <td>6.628645e-01</td>\n",
       "      <td>7.255642e+00</td>\n",
       "      <td>4.110616e-01</td>\n",
       "    </tr>\n",
       "    <tr>\n",
       "      <th>std</th>\n",
       "      <td>1.021423e+01</td>\n",
       "      <td>4.944968e+13</td>\n",
       "      <td>6.849060e+00</td>\n",
       "      <td>6.746207e+00</td>\n",
       "      <td>4.754109e+00</td>\n",
       "    </tr>\n",
       "    <tr>\n",
       "      <th>min</th>\n",
       "      <td>1.000000e+00</td>\n",
       "      <td>0.000000e+00</td>\n",
       "      <td>-1.961000e+01</td>\n",
       "      <td>-1.961000e+01</td>\n",
       "      <td>-1.980000e+01</td>\n",
       "    </tr>\n",
       "    <tr>\n",
       "      <th>25%</th>\n",
       "      <td>1.000000e+01</td>\n",
       "      <td>2.019128e+12</td>\n",
       "      <td>-2.870000e+00</td>\n",
       "      <td>3.170000e+00</td>\n",
       "      <td>-2.220000e+00</td>\n",
       "    </tr>\n",
       "    <tr>\n",
       "      <th>50%</th>\n",
       "      <td>1.900000e+01</td>\n",
       "      <td>9.722802e+12</td>\n",
       "      <td>2.700000e-01</td>\n",
       "      <td>7.930000e+00</td>\n",
       "      <td>0.000000e+00</td>\n",
       "    </tr>\n",
       "    <tr>\n",
       "      <th>75%</th>\n",
       "      <td>2.800000e+01</td>\n",
       "      <td>4.996572e+13</td>\n",
       "      <td>4.440000e+00</td>\n",
       "      <td>1.156000e+01</td>\n",
       "      <td>2.720000e+00</td>\n",
       "    </tr>\n",
       "    <tr>\n",
       "      <th>max</th>\n",
       "      <td>3.600000e+01</td>\n",
       "      <td>2.093974e+14</td>\n",
       "      <td>1.995000e+01</td>\n",
       "      <td>2.004000e+01</td>\n",
       "      <td>1.961000e+01</td>\n",
       "    </tr>\n",
       "  </tbody>\n",
       "</table>\n",
       "</div>"
      ],
      "text/plain": [
       "               user     timestamp        x-axis        y-axis        z-axis\n",
       "count  1.098203e+06  1.098203e+06  1.098203e+06  1.098203e+06  1.098203e+06\n",
       "mean   1.886067e+01  3.340910e+13  6.628645e-01  7.255642e+00  4.110616e-01\n",
       "std    1.021423e+01  4.944968e+13  6.849060e+00  6.746207e+00  4.754109e+00\n",
       "min    1.000000e+00  0.000000e+00 -1.961000e+01 -1.961000e+01 -1.980000e+01\n",
       "25%    1.000000e+01  2.019128e+12 -2.870000e+00  3.170000e+00 -2.220000e+00\n",
       "50%    1.900000e+01  9.722802e+12  2.700000e-01  7.930000e+00  0.000000e+00\n",
       "75%    2.800000e+01  4.996572e+13  4.440000e+00  1.156000e+01  2.720000e+00\n",
       "max    3.600000e+01  2.093974e+14  1.995000e+01  2.004000e+01  1.961000e+01"
      ]
     },
     "execution_count": 14,
     "metadata": {},
     "output_type": "execute_result"
    }
   ],
   "source": [
    "wisdm.describe()"
   ]
  },
  {
   "cell_type": "code",
   "execution_count": 15,
   "metadata": {},
   "outputs": [
    {
     "data": {
      "text/plain": [
       "array(['Jogging', 'Walking', 'Upstairs', 'Downstairs', 'Sitting',\n",
       "       'Standing'], dtype=object)"
      ]
     },
     "execution_count": 15,
     "metadata": {},
     "output_type": "execute_result"
    }
   ],
   "source": [
    "wisdm.activity.unique()"
   ]
  },
  {
   "cell_type": "code",
   "execution_count": 16,
   "metadata": {},
   "outputs": [
    {
     "data": {
      "text/plain": [
       "Walking       424397\n",
       "Jogging       342176\n",
       "Upstairs      122869\n",
       "Downstairs    100427\n",
       "Sitting        59939\n",
       "Standing       48395\n",
       "Name: activity, dtype: int64"
      ]
     },
     "execution_count": 16,
     "metadata": {},
     "output_type": "execute_result"
    }
   ],
   "source": [
    "wisdm.activity.value_counts()"
   ]
  },
  {
   "cell_type": "code",
   "execution_count": 17,
   "metadata": {},
   "outputs": [
    {
     "data": {
      "text/plain": [
       "array([33, 17, 20, 29, 13, 15,  6, 27, 36, 18, 32, 35, 11, 16,  5, 10, 28,\n",
       "       26, 14, 24, 12, 23,  4, 30, 34,  8, 31, 21,  3, 22,  1,  9, 25,  2,\n",
       "        7, 19])"
      ]
     },
     "execution_count": 17,
     "metadata": {},
     "output_type": "execute_result"
    }
   ],
   "source": [
    "(wisdm.user.unique())"
   ]
  },
  {
   "cell_type": "code",
   "execution_count": 18,
   "metadata": {},
   "outputs": [
    {
     "data": {
      "text/plain": [
       "Walking       12399\n",
       "Jogging       11818\n",
       "Sitting        1679\n",
       "Upstairs       1666\n",
       "Downstairs     1433\n",
       "Standing        709\n",
       "Name: activity, dtype: int64"
      ]
     },
     "execution_count": 18,
     "metadata": {},
     "output_type": "execute_result"
    }
   ],
   "source": [
    "wisdm[wisdm[\"user\"]==6].activity.value_counts()"
   ]
  },
  {
   "cell_type": "code",
   "execution_count": 21,
   "metadata": {},
   "outputs": [],
   "source": [
    "from scipy import stats"
   ]
  },
  {
   "cell_type": "code",
   "execution_count": 24,
   "metadata": {},
   "outputs": [],
   "source": [
    "N_TIME_STEPS = 81\n",
    "N_FEATURES = 3\n",
    "step = 20\n",
    "segments = []\n",
    "labels = []\n",
    "for i in range(0, len(wisdm) - N_TIME_STEPS, step):\n",
    "    xs = wisdm['x-axis'].values[i: i + N_TIME_STEPS]\n",
    "    ys = wisdm['y-axis'].values[i: i + N_TIME_STEPS]\n",
    "    zs = wisdm['z-axis'].values[i: i + N_TIME_STEPS]\n",
    "    label = stats.mode(wisdm['activity'][i: i + N_TIME_STEPS])[0][0]\n",
    "    segments.append([xs, ys, zs])\n",
    "    labels.append(label)\n"
   ]
  },
  {
   "cell_type": "code",
   "execution_count": 25,
   "metadata": {},
   "outputs": [
    {
     "data": {
      "text/plain": [
       "array(['Downstairs', 'Jogging', 'Sitting', 'Standing', 'Upstairs',\n",
       "       'Walking'], dtype='|S10')"
      ]
     },
     "execution_count": 25,
     "metadata": {},
     "output_type": "execute_result"
    }
   ],
   "source": [
    "np.unique(np.array(labels))"
   ]
  },
  {
   "cell_type": "code",
   "execution_count": 26,
   "metadata": {},
   "outputs": [
    {
     "data": {
      "text/plain": [
       "(54907, 3, 81)"
      ]
     },
     "execution_count": 26,
     "metadata": {},
     "output_type": "execute_result"
    }
   ],
   "source": [
    "np.array(segments).shape\n"
   ]
  },
  {
   "cell_type": "code",
   "execution_count": 27,
   "metadata": {},
   "outputs": [],
   "source": [
    "reshaped_segments = np.asarray(segments, dtype= np.float32).reshape(-1, N_TIME_STEPS, N_FEATURES)\n",
    "labels = np.asarray(pd.get_dummies(labels), dtype = np.float32)\n"
   ]
  },
  {
   "cell_type": "code",
   "execution_count": 28,
   "metadata": {},
   "outputs": [
    {
     "data": {
      "text/plain": [
       "(54907, 81, 3)"
      ]
     },
     "execution_count": 28,
     "metadata": {},
     "output_type": "execute_result"
    }
   ],
   "source": [
    "reshaped_segments.shape\n"
   ]
  },
  {
   "cell_type": "code",
   "execution_count": 29,
   "metadata": {},
   "outputs": [
    {
     "data": {
      "text/plain": [
       "array([0., 1., 0., 0., 0., 0.], dtype=float32)"
      ]
     },
     "execution_count": 29,
     "metadata": {},
     "output_type": "execute_result"
    }
   ],
   "source": [
    "labels[0]\n"
   ]
  },
  {
   "cell_type": "code",
   "execution_count": 30,
   "metadata": {},
   "outputs": [],
   "source": [
    "from sklearn.model_selection import train_test_split\n",
    "\n",
    "RANDOM_SEED=42\n",
    "\n",
    "X_train, X_test, y_train, y_test = train_test_split(\n",
    "        reshaped_segments, labels, test_size=0.2, random_state=RANDOM_SEED)\n"
   ]
  },
  {
   "cell_type": "code",
   "execution_count": 31,
   "metadata": {},
   "outputs": [
    {
     "data": {
      "text/plain": [
       "43925"
      ]
     },
     "execution_count": 31,
     "metadata": {},
     "output_type": "execute_result"
    }
   ],
   "source": [
    "len(X_train)\n"
   ]
  },
  {
   "cell_type": "code",
   "execution_count": 32,
   "metadata": {},
   "outputs": [
    {
     "data": {
      "text/plain": [
       "(43925, 81, 3)"
      ]
     },
     "execution_count": 32,
     "metadata": {},
     "output_type": "execute_result"
    }
   ],
   "source": [
    "X_train.shape"
   ]
  },
  {
   "cell_type": "code",
   "execution_count": 33,
   "metadata": {},
   "outputs": [
    {
     "data": {
      "text/plain": [
       "10982"
      ]
     },
     "execution_count": 33,
     "metadata": {},
     "output_type": "execute_result"
    }
   ],
   "source": [
    "len(X_test)\n"
   ]
  },
  {
   "cell_type": "code",
   "execution_count": 37,
   "metadata": {},
   "outputs": [],
   "source": [
    "import keras\n",
    "from keras.models import Sequential\n",
    "from keras.layers import Dense, Dropout, Flatten, Reshape\n",
    "from keras.layers import Conv2D, MaxPooling2D,LSTM,Bidirectional\n",
    "from keras.utils import np_utils\n",
    "from keras.optimizers import Adam\n",
    "from keras.regularizers import l2\n"
   ]
  },
  {
   "cell_type": "code",
   "execution_count": 38,
   "metadata": {},
   "outputs": [],
   "source": [
    "from keras.layers import TimeDistributed\n",
    "from keras.layers import Bidirectional\n"
   ]
  },
  {
   "cell_type": "code",
   "execution_count": 39,
   "metadata": {},
   "outputs": [
    {
     "name": "stdout",
     "output_type": "stream",
     "text": [
      "Train on 35140 samples, validate on 8785 samples\n",
      "Epoch 1/50\n",
      "35140/35140 [==============================] - 296s 8ms/step - loss: 0.4942 - acc: 0.8157 - val_loss: 0.3483 - val_acc: 0.8678\n",
      "Epoch 2/50\n",
      "35140/35140 [==============================] - 287s 8ms/step - loss: 0.2881 - acc: 0.8927 - val_loss: 0.2290 - val_acc: 0.9175\n",
      "Epoch 3/50\n",
      "35140/35140 [==============================] - 287s 8ms/step - loss: 0.2177 - acc: 0.9190 - val_loss: 0.1904 - val_acc: 0.9299\n",
      "Epoch 4/50\n",
      "35140/35140 [==============================] - 285s 8ms/step - loss: 0.1692 - acc: 0.9393 - val_loss: 0.1734 - val_acc: 0.9360\n",
      "Epoch 5/50\n",
      "35140/35140 [==============================] - 282s 8ms/step - loss: 0.1324 - acc: 0.9544 - val_loss: 0.1480 - val_acc: 0.9499\n",
      "Epoch 6/50\n",
      "35140/35140 [==============================] - 283s 8ms/step - loss: 0.1094 - acc: 0.9624 - val_loss: 0.1282 - val_acc: 0.9552\n",
      "Epoch 7/50\n",
      "35140/35140 [==============================] - 282s 8ms/step - loss: 0.0893 - acc: 0.9692 - val_loss: 0.1257 - val_acc: 0.9570\n",
      "Epoch 8/50\n",
      "35140/35140 [==============================] - 286s 8ms/step - loss: 0.0751 - acc: 0.9745 - val_loss: 0.1080 - val_acc: 0.9620\n",
      "Epoch 9/50\n",
      "35140/35140 [==============================] - 287s 8ms/step - loss: 0.0612 - acc: 0.9790 - val_loss: 0.1052 - val_acc: 0.9657\n",
      "Epoch 10/50\n",
      "35140/35140 [==============================] - 286s 8ms/step - loss: 0.0502 - acc: 0.9824 - val_loss: 0.1167 - val_acc: 0.9631\n",
      "Epoch 11/50\n",
      "35140/35140 [==============================] - 288s 8ms/step - loss: 0.0445 - acc: 0.9850 - val_loss: 0.1467 - val_acc: 0.9557\n",
      "Epoch 12/50\n",
      "35140/35140 [==============================] - 289s 8ms/step - loss: 0.0432 - acc: 0.9850 - val_loss: 0.1105 - val_acc: 0.9687\n",
      "Epoch 13/50\n",
      "35140/35140 [==============================] - 288s 8ms/step - loss: 0.0349 - acc: 0.9880 - val_loss: 0.1081 - val_acc: 0.9688\n",
      "Epoch 14/50\n",
      "35140/35140 [==============================] - 285s 8ms/step - loss: 0.0312 - acc: 0.9890 - val_loss: 0.1108 - val_acc: 0.9679\n",
      "Epoch 15/50\n",
      "35140/35140 [==============================] - 284s 8ms/step - loss: 0.0343 - acc: 0.9879 - val_loss: 0.1064 - val_acc: 0.9690\n",
      "Epoch 16/50\n",
      "35140/35140 [==============================] - 290s 8ms/step - loss: 0.0224 - acc: 0.9924 - val_loss: 0.1088 - val_acc: 0.9692\n",
      "Epoch 17/50\n",
      "35140/35140 [==============================] - 287s 8ms/step - loss: 0.0254 - acc: 0.9914 - val_loss: 0.1167 - val_acc: 0.9672\n",
      "Epoch 18/50\n",
      "35140/35140 [==============================] - 282s 8ms/step - loss: 0.0300 - acc: 0.9894 - val_loss: 0.1086 - val_acc: 0.9721\n",
      "Epoch 19/50\n",
      "35140/35140 [==============================] - 284s 8ms/step - loss: 0.0161 - acc: 0.9950 - val_loss: 0.1201 - val_acc: 0.9685\n",
      "Epoch 20/50\n",
      "35140/35140 [==============================] - 284s 8ms/step - loss: 0.0157 - acc: 0.9950 - val_loss: 0.1168 - val_acc: 0.9706\n",
      "Epoch 21/50\n",
      "35140/35140 [==============================] - 285s 8ms/step - loss: 0.0182 - acc: 0.9937 - val_loss: 0.1023 - val_acc: 0.9725\n",
      "Epoch 22/50\n",
      "35140/35140 [==============================] - 287s 8ms/step - loss: 0.0110 - acc: 0.9968 - val_loss: 0.1131 - val_acc: 0.9723\n",
      "Epoch 23/50\n",
      "35140/35140 [==============================] - 287s 8ms/step - loss: 0.0201 - acc: 0.9936 - val_loss: 0.1030 - val_acc: 0.9748\n",
      "Epoch 24/50\n",
      "35140/35140 [==============================] - 284s 8ms/step - loss: 0.0137 - acc: 0.9958 - val_loss: 0.1186 - val_acc: 0.9722\n",
      "Epoch 25/50\n",
      "35140/35140 [==============================] - 287s 8ms/step - loss: 0.0278 - acc: 0.9914 - val_loss: 0.1073 - val_acc: 0.9730\n",
      "Epoch 26/50\n",
      "35140/35140 [==============================] - 283s 8ms/step - loss: 0.0093 - acc: 0.9971 - val_loss: 0.1146 - val_acc: 0.9725\n",
      "Epoch 27/50\n",
      "35140/35140 [==============================] - 279s 8ms/step - loss: 0.0105 - acc: 0.9967 - val_loss: 0.1083 - val_acc: 0.9745\n",
      "Epoch 28/50\n",
      "35140/35140 [==============================] - 287s 8ms/step - loss: 0.0055 - acc: 0.9983 - val_loss: 0.1171 - val_acc: 0.9723\n",
      "Epoch 29/50\n",
      "35140/35140 [==============================] - 280s 8ms/step - loss: 0.0147 - acc: 0.9953 - val_loss: 0.1345 - val_acc: 0.9706\n",
      "Epoch 30/50\n",
      "35140/35140 [==============================] - 278s 8ms/step - loss: 0.0181 - acc: 0.9945 - val_loss: 0.1107 - val_acc: 0.9750\n",
      "Epoch 31/50\n",
      "35140/35140 [==============================] - 281s 8ms/step - loss: 0.0059 - acc: 0.9982 - val_loss: 0.1467 - val_acc: 0.9681\n",
      "Epoch 32/50\n",
      "35140/35140 [==============================] - 286s 8ms/step - loss: 0.0119 - acc: 0.9962 - val_loss: 0.1271 - val_acc: 0.9737\n",
      "Epoch 33/50\n",
      "35140/35140 [==============================] - 285s 8ms/step - loss: 0.0096 - acc: 0.9970 - val_loss: 0.1146 - val_acc: 0.9754\n",
      "Epoch 34/50\n",
      "35140/35140 [==============================] - 291s 8ms/step - loss: 0.0086 - acc: 0.9974 - val_loss: 0.1390 - val_acc: 0.9715\n",
      "Epoch 35/50\n",
      "35140/35140 [==============================] - 284s 8ms/step - loss: 0.0102 - acc: 0.9968 - val_loss: 0.1266 - val_acc: 0.9720\n",
      "Epoch 36/50\n",
      "35140/35140 [==============================] - 278s 8ms/step - loss: 0.0094 - acc: 0.9970 - val_loss: 0.1400 - val_acc: 0.9707\n",
      "Epoch 37/50\n",
      "35140/35140 [==============================] - 283s 8ms/step - loss: 0.0106 - acc: 0.9968 - val_loss: 0.1183 - val_acc: 0.9760\n",
      "Epoch 38/50\n",
      "35140/35140 [==============================] - 281s 8ms/step - loss: 0.0141 - acc: 0.9952 - val_loss: 0.1160 - val_acc: 0.9753\n",
      "Epoch 39/50\n",
      "35140/35140 [==============================] - 284s 8ms/step - loss: 0.0078 - acc: 0.9974 - val_loss: 0.1327 - val_acc: 0.9722\n",
      "Epoch 40/50\n",
      "35140/35140 [==============================] - 279s 8ms/step - loss: 0.0095 - acc: 0.9969 - val_loss: 0.1407 - val_acc: 0.9732\n",
      "Epoch 41/50\n",
      "35140/35140 [==============================] - 281s 8ms/step - loss: 0.0089 - acc: 0.9971 - val_loss: 0.1154 - val_acc: 0.9732\n",
      "Epoch 42/50\n",
      "35140/35140 [==============================] - 280s 8ms/step - loss: 0.0061 - acc: 0.9979 - val_loss: 0.1171 - val_acc: 0.9758\n",
      "Epoch 43/50\n",
      "35140/35140 [==============================] - 280s 8ms/step - loss: 0.0036 - acc: 0.9987 - val_loss: 0.1185 - val_acc: 0.9767\n",
      "Epoch 44/50\n",
      "35140/35140 [==============================] - 280s 8ms/step - loss: 0.0029 - acc: 0.9991 - val_loss: 0.1301 - val_acc: 0.9735\n",
      "Epoch 45/50\n",
      "35140/35140 [==============================] - 279s 8ms/step - loss: 0.0172 - acc: 0.9944 - val_loss: 0.1293 - val_acc: 0.9737\n",
      "Epoch 46/50\n",
      "35140/35140 [==============================] - 285s 8ms/step - loss: 0.0110 - acc: 0.9963 - val_loss: 0.1228 - val_acc: 0.9714\n",
      "Epoch 47/50\n",
      "35140/35140 [==============================] - 281s 8ms/step - loss: 0.0058 - acc: 0.9983 - val_loss: 0.1161 - val_acc: 0.9763\n",
      "Epoch 48/50\n",
      "35140/35140 [==============================] - 284s 8ms/step - loss: 0.0048 - acc: 0.9985 - val_loss: 0.1247 - val_acc: 0.9761\n",
      "Epoch 49/50\n",
      "35140/35140 [==============================] - 283s 8ms/step - loss: 0.0044 - acc: 0.9986 - val_loss: 0.1391 - val_acc: 0.9717\n",
      "Epoch 50/50\n",
      "35140/35140 [==============================] - 279s 8ms/step - loss: 0.0099 - acc: 0.9965 - val_loss: 0.1354 - val_acc: 0.9742\n",
      "10982/10982 [==============================] - 24s 2ms/step\n"
     ]
    }
   ],
   "source": [
    "n_timesteps,n_features=81,3\n",
    "epochs,batch_size=50,64\n",
    "n_outputs=6\n",
    "\n",
    "model = Sequential()\n",
    "model.add(Bidirectional(LSTM(100, return_sequences=True,input_shape=(n_timesteps,n_features))))\n",
    "model.add(Bidirectional(LSTM(100)))\n",
    "#model.add(Dropout(0.25))\n",
    "model.add(Dense(100, activation='relu'))\n",
    "model.add(Dense(n_outputs, activation='softmax'))\n",
    "\n",
    "model.compile(loss='categorical_crossentropy', optimizer='adam', metrics=['accuracy'] )\n",
    "# fit network\n",
    "model.fit(X_train, y_train, epochs=epochs, batch_size=batch_size ,validation_split=0.2)\n",
    "# evaluate model\n",
    "_, accuracy = model.evaluate(X_test, y_test, batch_size=batch_size)\n"
   ]
  },
  {
   "cell_type": "code",
   "execution_count": 40,
   "metadata": {},
   "outputs": [
    {
     "data": {
      "text/plain": [
       "0.9736842105263158"
      ]
     },
     "execution_count": 40,
     "metadata": {},
     "output_type": "execute_result"
    }
   ],
   "source": [
    "# Test accuracy (Here we can observe validation accuracy also reaching 0.97 which\n",
    "# is not the case with DNN model.)\n",
    "\n",
    "accuracy"
   ]
  },
  {
   "cell_type": "code",
   "execution_count": null,
   "metadata": {},
   "outputs": [],
   "source": []
  },
  {
   "cell_type": "code",
   "execution_count": null,
   "metadata": {},
   "outputs": [],
   "source": []
  }
 ],
 "metadata": {
  "kernelspec": {
   "display_name": "Python 2",
   "language": "python",
   "name": "python2"
  },
  "language_info": {
   "codemirror_mode": {
    "name": "ipython",
    "version": 2
   },
   "file_extension": ".py",
   "mimetype": "text/x-python",
   "name": "python",
   "nbconvert_exporter": "python",
   "pygments_lexer": "ipython2",
   "version": "2.7.5"
  }
 },
 "nbformat": 4,
 "nbformat_minor": 2
}
